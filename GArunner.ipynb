{
 "cells": [
  {
   "cell_type": "code",
   "execution_count": 1,
   "metadata": {},
   "outputs": [],
   "source": [
    "# Usual Modules\n",
    "import numpy as np\n",
    "from ase.io import read, write\n",
    "from ase.visualize import view\n",
    "from ase import Atoms\n",
    "from ase.build import molecule\n",
    "from ase.calculators.vasp import Vasp\n",
    "import matplotlib.pyplot as plt\n",
    "\n",
    "# GA specific Modules\n",
    "from GA_runner import *\n",
    "from ase.db import connect\n",
    "from ase.ga.offspring_creator import OperationSelector\n",
    "from ase.ga.standardmutations import RattleMutation, RotationalMutation, RattleRotationalMutation\n",
    "from ase.ga.data import PrepareDB, DataConnection\n",
    "from ase.ga.standard_comparators import InteratomicDistanceComparator\n",
    "from ase.ga.population import Population\n",
    "\n"
   ]
  },
  {
   "cell_type": "code",
   "execution_count": 2,
   "metadata": {},
   "outputs": [],
   "source": [
    "# Structures to evaluate GA\n",
    "STRUCT = read('./CHA_CONTCAR')\n",
    "ADSORB = read('./TMADA_CONTCAR') \n",
    "\n",
    "# Variables needed before running GA\n",
    "\n",
    "init_pop_size = 20   # initial structures generated (this number will need to be high, it will be about 1/5 the size once we eliminate bad structures)\n",
    "Ads_cent =[2.,-5,5] # center adsorbate at some point in the cage\n",
    "\n",
    "n_to_test = 10 # number of children to make in each generation\n",
    "mult = 1.4 # factor to multiply covalent radii\n",
    "\n",
    "db_file = 'CHA_TMADA.db' # database name"
   ]
  },
  {
   "cell_type": "code",
   "execution_count": 3,
   "metadata": {},
   "outputs": [],
   "source": [
    "zeoGA = GenerateParent(STRUCT,ADSORB,init_pop_size) # initialize GA\n",
    "structs = zeoGA.construct_parent(Ads_cent) # Create parents centered at a point (is none supplied it is centerd at 0,0,0)\n",
    "\n",
    "# Get a list of atoms to optimize in the GA\n",
    "chem_sym = ADSORB.get_chemical_symbols()\n",
    "elem = np.unique(chem_sym)\n",
    "atom_numbers = [None]\n",
    "for i in elem:\n",
    "    count = chem_sym.count(i)\n",
    "    if i == 'C':\n",
    "        atom_num = 6\n",
    "    elif i =='H':\n",
    "        atom_num = 1\n",
    "    atom_numbers = count * [atom_num] + atom_numbers\n",
    "    \n",
    "del atom_numbers[-1]"
   ]
  },
  {
   "cell_type": "code",
   "execution_count": null,
   "metadata": {},
   "outputs": [],
   "source": [
    "view(structs)"
   ]
  },
  {
   "cell_type": "code",
   "execution_count": 4,
   "metadata": {},
   "outputs": [
    {
     "name": "stdout",
     "output_type": "stream",
     "text": [
      "DB has been created and updated with parents\n"
     ]
    }
   ],
   "source": [
    "# prepare DB\n",
    "\n",
    "my_file = Path('./{0}'.format(db_file))\n",
    "if my_file.is_file():\n",
    "    print('{0} already exists. Please delete file and rerun. No structures have been added to the DB'.format(db_file))\n",
    "\n",
    "else:\n",
    "    d = PrepareDB(db_file_name= db_file,\n",
    "             simulation_cell = STRUCT,\n",
    "             stoichiometry = atom_numbers)\n",
    "\n",
    "    # add parents to database\n",
    "\n",
    "    for i in structs:\n",
    "        d.add_unrelaxed_candidate(i)\n",
    "        \n",
    "    print('DB has been created and updated with parents')"
   ]
  },
  {
   "cell_type": "code",
   "execution_count": 5,
   "metadata": {},
   "outputs": [],
   "source": [
    "# set up variables for GA (should be consistent with variables above or defaults are fine)\n",
    "da = DataConnection(db_file)\n",
    "atom_numbers_to_optimize = da.get_atom_numbers_to_optimize()\n",
    "n_to_optimize = len(atom_numbers_to_optimize)\n",
    "frame = da.get_slab()\n",
    "all_atom_types = get_all_atom_types(frame, atom_numbers_to_optimize)\n",
    "blmin = closest_distances_generator(all_atom_types,ratio_of_covalent_radii=mult)\n",
    "\n",
    "comp = InteratomicDistanceComparator(n_top = n_to_optimize,\n",
    "                                    pair_cor_cum_diff=0.015,  # these are traditional defaults\n",
    "                                    pair_cor_max=0.7,\n",
    "                                    dE=0.02,\n",
    "                                    mic=False)\n",
    "\n",
    "oclist = [(1.,RattleMutation(blmin,n_to_optimize,use_tags=True)),   # These mutations have been selected for our problem and can change\n",
    "          (1.,RotationalMutation(blmin,n_to_optimize)),\n",
    "          (1.,RattleRotationalMutation(RattleMutation(blmin,n_to_optimize,use_tags=True),\n",
    "                                       RotationalMutation(blmin,n_to_optimize)))]\n",
    "\n",
    "opselect = OperationSelector(*zip(*oclist))"
   ]
  },
  {
   "cell_type": "code",
   "execution_count": null,
   "metadata": {},
   "outputs": [],
   "source": [
    "# Write calculations to Folder Candidates (the calculations are not running. Must be performed with ase.calculators.vasp)\n",
    "for i in range(2,da.get_number_of_unrelaxed_candidates()+2):\n",
    "    atoms = da.get_atoms(id=i)\n",
    "    calc = Vasp(directory = './Candidates/Can-{:02d}'.format(i),\n",
    "                xc = 'pbe', \n",
    "                encut = 520,                                \n",
    "                ediff = 1e-5,\n",
    "                ediffg = -0.01, \n",
    "                ibrion = 2,\n",
    "                isif = 2, \n",
    "                nsw = 600,\n",
    "                ispin = 1,\n",
    "                nelm = 60,\n",
    "                sigma = 0.01,\n",
    "                ismear = 0,\n",
    "                lreal='A',\n",
    "                ncore = 24,                                   # set ncore depending on number of cores\n",
    "                ivdw = 12,\n",
    "                algo = 'VeryFast',\n",
    "                lcharg = False,\n",
    "                lwave = False)\n",
    "    \n",
    "    calc.write_input(atoms)"
   ]
  },
  {
   "cell_type": "code",
   "execution_count": 6,
   "metadata": {},
   "outputs": [
    {
     "name": "stdout",
     "output_type": "stream",
     "text": [
      "Updating candidate 2\n",
      "Updating candidate 3\n",
      "Updating candidate 4\n",
      "Updating candidate 5\n",
      "Updating candidate 6\n",
      "Updating candidate 7\n",
      "Updating candidate 8\n",
      "Updating candidate 9\n",
      "Updating candidate 10\n",
      "Updating candidate 11\n",
      "Updating candidate 12\n",
      "Updating candidate 13\n",
      "Updating candidate 14\n",
      "Updating candidate 15\n",
      "Updating candidate 16\n",
      "Updating candidate 17\n",
      "Updating candidate 18\n",
      "Updating candidate 19\n",
      "Updating candidate 20\n",
      "Updating candidate 21\n"
     ]
    }
   ],
   "source": [
    "# update database\n",
    "num = UpdateDB(db_file).update()"
   ]
  },
  {
   "cell_type": "code",
   "execution_count": 7,
   "metadata": {},
   "outputs": [
    {
     "name": "stdout",
     "output_type": "stream",
     "text": [
      "Now starting configuration number 22\n",
      "Now starting configuration number 23\n",
      "Now starting configuration number 24\n",
      "Now starting configuration number 25\n",
      "Now starting configuration number 26\n",
      "Now starting configuration number 27\n",
      "Now starting configuration number 28\n",
      "Now starting configuration number 29\n",
      "Now starting configuration number 30\n",
      "Now starting configuration number 31\n",
      "[[18, 10], [11, 18], [18, 20], [18, 12], [20, 18], [18, 20], [20, 14], [20, 4], [12, 20], [14, 12]] ['mutation: rotational', 'mutation: rotational', 'mutation: rattlerotational', 'mutation: rattlerotational', 'mutation: rattle', 'mutation: rattle', 'mutation: rotational', 'mutation: rattle', 'mutation: rattlerotational', 'mutation: rattle']\n"
     ]
    }
   ],
   "source": [
    "# create the population\n",
    "da = DataConnection(db_file)\n",
    "population = Population(data_connection=da,\n",
    "                        population_size=init_pop_size,\n",
    "                        comparator=comp)\n",
    "\n",
    "# generate children\n",
    "zeochild1 = GenerateChild(db_file, population, opselect, n_to_test, num)\n",
    "Operation, Marraige = zeochild1.construct_child()\n",
    "\n",
    "print(Marraige,Operation)"
   ]
  },
  {
   "cell_type": "code",
   "execution_count": 8,
   "metadata": {},
   "outputs": [],
   "source": [
    "# Run first generationof children \n",
    "da = DataConnection(db_file)\n",
    "for i in range(num+1,num+n_to_test+1):\n",
    "    atoms = da.get_atoms(id=i)\n",
    "    calc = Vasp(directory = './Candidates/Can-{:02d}'.format(i),\n",
    "                xc = 'pbe', \n",
    "                encut = 520,                                \n",
    "                ediff = 1e-5,\n",
    "                ediffg = -0.01, \n",
    "                ibrion = 2,\n",
    "                isif = 2, \n",
    "                nsw = 600,\n",
    "                ispin = 1,\n",
    "                nelm = 60,\n",
    "                sigma = 0.01,\n",
    "                ismear = 0,\n",
    "                lreal='A',\n",
    "                ncore = 24,                                   # set ncore depending on number of cores\n",
    "                ivdw = 12,\n",
    "                algo = 'VeryFast',\n",
    "                lcharg = False,\n",
    "                lwave = False)\n",
    "        \n",
    "    calc.write_input(atoms)"
   ]
  },
  {
   "cell_type": "code",
   "execution_count": 9,
   "metadata": {},
   "outputs": [
    {
     "name": "stdout",
     "output_type": "stream",
     "text": [
      "Updating candidate 22\n",
      "Updating candidate 23\n",
      "Updating candidate 24\n",
      "Updating candidate 25\n",
      "Updating candidate 26\n",
      "Updating candidate 27\n",
      "Updating candidate 28\n",
      "Updating candidate 29\n",
      "Updating candidate 30\n",
      "Updating candidate 31\n"
     ]
    }
   ],
   "source": [
    "# update database\n",
    "num = UpdateDB(db_file).update()"
   ]
  },
  {
   "cell_type": "code",
   "execution_count": 10,
   "metadata": {},
   "outputs": [
    {
     "name": "stdout",
     "output_type": "stream",
     "text": [
      "Now starting configuration number 32\n",
      "Now starting configuration number 33\n",
      "Now starting configuration number 34\n",
      "Now starting configuration number 35\n",
      "Now starting configuration number 36\n",
      "Now starting configuration number 37\n",
      "Now starting configuration number 38\n",
      "Now starting configuration number 39\n",
      "Now starting configuration number 40\n",
      "Now starting configuration number 41\n",
      "[[14, 18], [20, 11], [10, 11], [11, 18], [23, 4], [18, 4], [20, 18], [11, 18], [14, 18], [14, 4]] ['mutation: rotational', 'mutation: rattlerotational', 'mutation: rattlerotational', 'mutation: rotational', 'mutation: rattle', 'mutation: rotational', 'mutation: rattlerotational', 'mutation: rattle', 'mutation: rotational', 'mutation: rotational']\n"
     ]
    }
   ],
   "source": [
    "# Recreate population\n",
    "da = DataConnection(db_file)\n",
    "population = Population(data_connection=da,\n",
    "                        population_size=init_pop_size+n_to_test,\n",
    "                        comparator=comp)\n",
    "\n",
    "# generate children\n",
    "zeochild2 = GenerateChild(db_file, population, opselect, n_to_test, num)\n",
    "Operation, Marraige = zeochild2.construct_child()\n",
    "\n",
    "print(Marraige,Operation)"
   ]
  },
  {
   "cell_type": "code",
   "execution_count": 11,
   "metadata": {},
   "outputs": [],
   "source": [
    "# Run first generationof children \n",
    "for i in range(num+1,num+n_to_test+1):\n",
    "    atoms = da.get_atoms(id=i)\n",
    "    calc = Vasp(directory = './Candidates/Can-{:02d}'.format(i),\n",
    "                xc = 'pbe', \n",
    "                encut = 520,                                \n",
    "                ediff = 1e-5,\n",
    "                ediffg = -0.01, \n",
    "                ibrion = 2,\n",
    "                isif = 2, \n",
    "                nsw = 600,\n",
    "                ispin = 1,\n",
    "                nelm = 60,\n",
    "                sigma = 0.01,\n",
    "                ismear = 0,\n",
    "                lreal='A',\n",
    "                ncore = 24,                                   # set ncore depending on number of cores\n",
    "                ivdw = 12,\n",
    "                algo = 'VeryFast',\n",
    "                lcharg = False,\n",
    "                lwave = False)\n",
    "    \n",
    "    calc.write_input(atoms)"
   ]
  },
  {
   "cell_type": "code",
   "execution_count": null,
   "metadata": {},
   "outputs": [],
   "source": [
    "# update database for final time\n",
    "num = UpdateDB(db_file).update()"
   ]
  },
  {
   "cell_type": "code",
   "execution_count": null,
   "metadata": {},
   "outputs": [],
   "source": []
  },
  {
   "cell_type": "code",
   "execution_count": null,
   "metadata": {},
   "outputs": [],
   "source": []
  },
  {
   "cell_type": "code",
   "execution_count": null,
   "metadata": {},
   "outputs": [],
   "source": []
  },
  {
   "cell_type": "code",
   "execution_count": null,
   "metadata": {},
   "outputs": [],
   "source": []
  },
  {
   "cell_type": "code",
   "execution_count": null,
   "metadata": {},
   "outputs": [],
   "source": []
  }
 ],
 "metadata": {
  "kernelspec": {
   "display_name": "Python 3",
   "language": "python",
   "name": "python3"
  },
  "language_info": {
   "codemirror_mode": {
    "name": "ipython",
    "version": 3
   },
   "file_extension": ".py",
   "mimetype": "text/x-python",
   "name": "python",
   "nbconvert_exporter": "python",
   "pygments_lexer": "ipython3",
   "version": "3.7.3"
  }
 },
 "nbformat": 4,
 "nbformat_minor": 4
}
