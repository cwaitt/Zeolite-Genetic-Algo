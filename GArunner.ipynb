{
 "cells": [
  {
   "cell_type": "code",
   "execution_count": null,
   "metadata": {},
   "outputs": [],
   "source": [
    "# General ASE and Python Modules Modules\n",
    "import numpy as np\n",
    "from ase.io import read, write\n",
    "from ase.visualize import view\n",
    "from ase import Atoms\n",
    "from ase.build import molecule\n",
    "from vasp import Vasp    # John Kitchins Vasp (will change from this when SGE and ASE are integratted)\n",
    "import os\n",
    "import glob\n",
    "import matplotlib.pyplot as plt\n",
    "\n",
    "import shutil\n",
    "# GA runner created by Craig\n",
    "from GA_runner import *\n"
   ]
  },
  {
   "cell_type": "markdown",
   "metadata": {},
   "source": [
    "# Load FW and Adsorbate and adjust atom objects as needed"
   ]
  },
  {
   "cell_type": "code",
   "execution_count": null,
   "metadata": {},
   "outputs": [],
   "source": [
    "STRUCT = read('AEI-Si-48T.cif')\n",
    "ADSORB1 = read('DMDMP-T.cif')\n",
    "ADSORB2 = read('Ne.cif')\n",
    "ADSORB = [ADSORB1,ADSORB2]\n",
    "STRUCT.translate([0,-6,4])    # center the cage near the center of the unit cell\n",
    "STRUCT.wrap()\n",
    "NUMS = ADSORB1 + ADSORB2"
   ]
  },
  {
   "cell_type": "markdown",
   "metadata": {},
   "source": [
    "# Set Initial GA variables"
   ]
  },
  {
   "cell_type": "code",
   "execution_count": null,
   "metadata": {},
   "outputs": [],
   "source": [
    "init_pop_size = 50   # initial structures generated (this number will need to be high, it will be about 1/5 the size once we eliminate bad structures)\n",
    "n_ads = 2             # number of adsorbates in the ads atom object\n",
    "Ads_cell = [3,12,3]   # Cell to sample adsorbate in\n",
    "Ads_cent =[6,7.6,8.5] # center adsorbate at some point in the cage\n",
    "mult = 1.4            # parameter to multiply natural cuttoffs"
   ]
  },
  {
   "cell_type": "markdown",
   "metadata": {},
   "source": [
    "# Generate Parents for DB"
   ]
  },
  {
   "cell_type": "code",
   "execution_count": null,
   "metadata": {},
   "outputs": [],
   "source": [
    "GA = GenerateZeoliteConfig(STRUCT,ADSORB,init_pop_size,n_ads)   # Initialize GA\n",
    "GA.set_ads_cell(Ads_cell)                                       # Apply a unit cell to the adsorbate\n",
    "GA.construct_init_parent(Ads_cell,Ads_cent)                     # Construct the inital set of parents\n",
    "GA.remove_overlap(mult)                                         # Eliminate overlapping candidates"
   ]
  },
  {
   "cell_type": "markdown",
   "metadata": {},
   "source": [
    "# Create initial DB"
   ]
  },
  {
   "cell_type": "code",
   "execution_count": null,
   "metadata": {},
   "outputs": [],
   "source": [
    "# create the database to store information in\n",
    "db_file = 'gadb_parents.db'\n",
    "\n",
    "if os.path.isfile(db_file)==False:\n",
    "    d = PrepareDB(db_file_name=db_file,\n",
    "                  simulation_cell=STRUCT,\n",
    "                  stoichiometry=NUMS.get_atomic_numbers())   \n",
    "    \n",
    "    for a in GA.Parent_Set:\n",
    "        d.add_unrelaxed_candidate(a)    # The first element in the DB is the Framework without the Adsorbate\n",
    "                                        # this is needed for the GA\n",
    "else:\n",
    "    print(' ')\n"
   ]
  },
  {
   "cell_type": "markdown",
   "metadata": {},
   "source": [
    "# GA and DFT variables"
   ]
  },
  {
   "cell_type": "code",
   "execution_count": null,
   "metadata": {},
   "outputs": [],
   "source": [
    "db = connect(db_file)                    # Connects to the DB\n",
    "Par_pop_size = db.count()-1              # Number of canidates in the DB\n",
    "n_to_test = 3                           # Number of children to generate\n",
    "db_index = range(1,Par_pop_size+1)       # Get the indicies (in python notation (i.e. id=1 has an index=0)\n",
    "directory = 'Candidates/Candidate-{:02d}/'\n",
    "def Calc(db_ind,candidate):                               \n",
    "    return Vasp(directory.format(int(db_ind)),\n",
    "                xc = 'pbe', \n",
    "                encut = 400,                                \n",
    "                ediff = 1e-5,\n",
    "                ediffg = -0.03, \n",
    "                ibrion = -1,\n",
    "                isif = 2, \n",
    "                nsw = 600,\n",
    "                ispin = 2,\n",
    "#                magmom = np.repeat(1,len(candidate)).tolist(),\n",
    "                nelm = 60,\n",
    "                sigma = 0.01,\n",
    "                ismear = 0,\n",
    "                lreal='A',\n",
    "                ncore = 24,                                   # set ncore depending on number of cores\n",
    "                ivdw = 12,\n",
    "                algo = 'VeryFast',\n",
    "                atoms = candidate)"
   ]
  },
  {
   "cell_type": "markdown",
   "metadata": {},
   "source": [
    "# Write DFT input for each Candidate"
   ]
  },
  {
   "cell_type": "code",
   "execution_count": null,
   "metadata": {},
   "outputs": [],
   "source": [
    "# Write input using a cheap optimization method\n",
    "for i in db_index:                           # write an input file for each job\n",
    "    parent = read('{0}@{1}'.format(db_file,i))\n",
    "    calc = Calc(i+1,parent)\n",
    "    calc.write_input()\n",
    "    \n",
    "# Submit Jobs, wait for them to complete before proceeding"
   ]
  },
  {
   "cell_type": "markdown",
   "metadata": {},
   "source": [
    "# Update DB with Optimized Structures"
   ]
  },
  {
   "cell_type": "code",
   "execution_count": null,
   "metadata": {},
   "outputs": [],
   "source": [
    "### updating may take a few minutes and only needs to be done once\n",
    "Prep = DB_Prep(db_file,directory,STRUCT,ADSORB,n_ads)\n",
    "Prep.update_db()\n",
    "Prep.prep_db()\n",
    "os.mkdir('DB-Backup')\n",
    "os.system('cp {0} DB-Backup/'.format(db_file))\n",
    "db_file2 = 'gadb_gen1.db'\n",
    "os.system('mv {0} {1}'.format(db_file,db_file2))"
   ]
  },
  {
   "cell_type": "markdown",
   "metadata": {},
   "source": [
    "# Begin Generation of Children"
   ]
  },
  {
   "cell_type": "code",
   "execution_count": null,
   "metadata": {},
   "outputs": [],
   "source": [
    "# DO NOT RUN THIS BLOCK MULTIPLE TIMES\n",
    "GA_Gen1 = GenerateZeoliteGen1(Par_pop_size,n_to_test,db_file2)\n",
    "ddiff = 0.015                        # distance criteria for comparator\n",
    "dmax = 0.7 \n",
    "dE = 0.001                           # Energy comparator\n",
    "GA_Gen1.ga_init(ddiff,dmax,dE)\n",
    "\n",
    "### If it hangs you may need to delete the DB and start over"
   ]
  },
  {
   "cell_type": "markdown",
   "metadata": {},
   "source": [
    "# Write input for Generation 1"
   ]
  },
  {
   "cell_type": "code",
   "execution_count": null,
   "metadata": {},
   "outputs": [],
   "source": [
    "# Get the children and optimize those\n",
    "child_index = range((Par_pop_size+1),(Par_pop_size+1+n_to_test))\n",
    "for i in child_index:                           # write and input file for each job\n",
    "    child = read('{0}@{1}'.format(db_file2,i))\n",
    "    calc = Calc(i+1,child)\n",
    "    calc.write_input()"
   ]
  },
  {
   "cell_type": "markdown",
   "metadata": {},
   "source": [
    "# Update DB with Gen1"
   ]
  },
  {
   "cell_type": "code",
   "execution_count": null,
   "metadata": {},
   "outputs": [],
   "source": [
    "### updating may take a few minutes and only needs to be done once\n",
    "db_file2 = 'gadb_gen1.db'\n",
    "Prep = DB_Prep(db_file2,directory,STRUCT,ADSORB,n_ads)\n",
    "Prep.update_db()\n",
    "Prep.prep_db()\n",
    "os.system('cp {0} DB-Backup/'.format(db_file2))\n",
    "db_file3 = 'gadb_gen2.db'\n",
    "os.system('mv {0} {1}'.format(db_file2,db_file3))"
   ]
  },
  {
   "cell_type": "markdown",
   "metadata": {},
   "source": [
    "# Begin Generation of Gen2"
   ]
  },
  {
   "cell_type": "code",
   "execution_count": null,
   "metadata": {},
   "outputs": [],
   "source": [
    "# DO NOT RUN THIS BLOCK MULTIPLE TIMES\n",
    "db_file3 = 'gadb_gen2.db'\n",
    "new_pop = Par_pop_size + n_to_test\n",
    "GA_Gen2 = GenerateZeoliteGen2(Par_pop_size,n_to_test,db_file3)\n",
    "ddiff = 0.015                        # distance criteria for comparator\n",
    "dmax = 0.7 \n",
    "dE = 0.001\n",
    "GA_Gen2.ga_init(ddiff,dmax,dE)"
   ]
  },
  {
   "cell_type": "markdown",
   "metadata": {},
   "source": [
    "# Write input for Generation 2"
   ]
  },
  {
   "cell_type": "code",
   "execution_count": null,
   "metadata": {},
   "outputs": [],
   "source": [
    "# Get the children and optimize those\n",
    "new_pop = Par_pop_size + n_to_test\n",
    "child_index = range((new_pop+1),(new_pop+1+n_to_test))\n",
    "for i in child_index:                           # write and input file for each job\n",
    "    child = read('{0}@{1}'.format(db_file3,i))\n",
    "    calc = Calc(i+1,child)\n",
    "    calc.write_input()"
   ]
  },
  {
   "cell_type": "markdown",
   "metadata": {},
   "source": [
    "# Update the DB for the final Time"
   ]
  },
  {
   "cell_type": "code",
   "execution_count": null,
   "metadata": {},
   "outputs": [],
   "source": [
    "### updating may take a few minutes and only needs to be done once\n",
    "db_file3 = 'gadb_gen2.db'\n",
    "Prep = DB_Prep(db_file3,directory,STRUCT,ADSORB,n_ads)\n",
    "Prep.update_db()\n",
    "Prep.prep_db()\n",
    "os.system('cp {0} DB-Backup/'.format(db_file3))\n",
    "db_file4 = 'GA-Final-DB.db'\n",
    "os.system('mv {0} {1}'.format(db_file3,db_file4))"
   ]
  },
  {
   "cell_type": "markdown",
   "metadata": {},
   "source": [
    "# Data Analysis"
   ]
  },
  {
   "cell_type": "code",
   "execution_count": null,
   "metadata": {},
   "outputs": [],
   "source": [
    "db_file4 = 'GA-Final-DB.db'    # eneter number of candidates for each generation\n",
    "gen0 = 28\n",
    "gen1 = 10\n",
    "gen2 = 10\n",
    "DB_EN = DB_viewer(db_file4)\n",
    "DB_EN.db_get_energies(gen0,gen1,gen2,zoom=True)   # plot out the energy spectrum of each generation"
   ]
  }
 ],
 "metadata": {
  "kernelspec": {
   "display_name": "Python 3",
   "language": "python",
   "name": "python3"
  },
  "language_info": {
   "codemirror_mode": {
    "name": "ipython",
    "version": 3
   },
   "file_extension": ".py",
   "mimetype": "text/x-python",
   "name": "python",
   "nbconvert_exporter": "python",
   "pygments_lexer": "ipython3",
   "version": "3.7.3"
  }
 },
 "nbformat": 4,
 "nbformat_minor": 2
}
