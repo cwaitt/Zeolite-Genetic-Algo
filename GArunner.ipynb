{
 "cells": [
  {
   "cell_type": "code",
   "execution_count": 75,
   "metadata": {},
   "outputs": [],
   "source": [
    "# Author: Craig Waitt\n",
    "# Date Created: 2/24/20\n",
    "# Last Edited: 3/02/20"
   ]
  },
  {
   "cell_type": "code",
   "execution_count": 2,
   "metadata": {},
   "outputs": [],
   "source": [
    "# General ASE and Python Modules Modules\n",
    "import numpy as np\n",
    "from ase.io import read, write\n",
    "from ase.visualize import view\n",
    "from ase import Atoms\n",
    "from ase.build import molecule\n",
    "from vasp import Vasp    # John Kitchins Vasp (will change from this when SGE and ASE are integratted)\n",
    "import os\n",
    "import glob\n",
    "import matplotlib.pyplot as plt\n",
    "\n",
    "# Import Modules for Genetic Algorithm (GA)\n",
    "from ase.ga.data import PrepareDB\n",
    "from ase.ga.bulk_startgenerator import StartGenerator\n",
    "from ase.ga.utilities import closest_distances_generator, get_all_atom_types\n",
    "from ase.neighborlist import NeighborList, natural_cutoffs\n",
    "from ase.db.core import Database, connect\n",
    "from ase.db import connect\n",
    "from ase.ga.data import DataConnection\n",
    "from ase.ga.population import Population\n",
    "from ase.ga.standard_comparators import *\n",
    "from ase.ga.bulk_crossovers import CutAndSplicePairing\n",
    "from ase.ga.utilities import closest_distances_generator\n",
    "from ase.ga.utilities import get_all_atom_types\n",
    "from ase.ga.offspring_creator import OperationSelector"
   ]
  },
  {
   "cell_type": "code",
   "execution_count": 1,
   "metadata": {},
   "outputs": [],
   "source": [
    "# If you shut down the kernal and restart go to section Prepare DB\n"
   ]
  },
  {
   "cell_type": "markdown",
   "metadata": {},
   "source": [
    "# Import Structural Information"
   ]
  },
  {
   "cell_type": "code",
   "execution_count": 24,
   "metadata": {},
   "outputs": [],
   "source": [
    "# Two structural inputs are needed to Generate a random structure DB. \n",
    "# Make all changes to your structural inputs here before preceding\n",
    "    # STRUCT contains the framework/surface that is uniform (not changing)\n",
    "    # Adsorb is the molecule that is moving about the framework or surface\n",
    "    # At present, the code has been set to generate a DB with only 1 Adsorbate\n",
    "\n",
    "n = 1                                              # number of adsorbate molecules you are going to add    \n",
    "    \n",
    "STRUCT = read('AEI-Si-48T.cif')\n",
    "ADSORB = read('DMDMP-T.cif')                       # optimize adsorbate in Avogadro\n",
    "ADSORB_TOT = len(ADSORB)*n                         # total number of adsorbate molecules\n",
    "STRUCTcount = len(STRUCT)\n",
    "ADSORBcount = len(ADSORB)"
   ]
  },
  {
   "cell_type": "markdown",
   "metadata": {},
   "source": [
    "# Define Sampling Unit Cell"
   ]
  },
  {
   "cell_type": "code",
   "execution_count": 27,
   "metadata": {},
   "outputs": [],
   "source": [
    "# In order to conserve bond connectivity, the code generates a random sampling of adsorbates then puts them\n",
    "#    into the zeolite framework. Define a volume that you ideally want the adsorbate to sample. Your box can\n",
    "#    as big or as small as you like. This will take some testing so pick some numbers, then adjust them if\n",
    "#    needed before submitting calculations\n",
    "\n",
    "STRUCT.translate([0,-6,4])                                          # move STRUCT to try to accomidate periodic images when eliminating bad candidates\n",
    "\n",
    "ADSORB_CELL = [[3,0,0],[0,12,0],[0,0,3]]                            # Cell that adsorbate will sample\n",
    "ADSORB_VOL = ADSORB_CELL[0][0]*ADSORB_CELL[1][1]*ADSORB_CELL[2][2]  # Volume of Cell\n",
    "ADSORB.set_cell(ADSORB_CELL)\n",
    "ADSORB.center()\n",
    "ADSORB.set_tags(1)                                                  # You must Tag unique adsorbates for GA to work\n",
    "                                                                    # They can be any number, this maintains the moitey \n",
    "    "
   ]
  },
  {
   "cell_type": "markdown",
   "metadata": {},
   "source": [
    "# Begin Constructing the Initial DB"
   ]
  },
  {
   "cell_type": "code",
   "execution_count": 76,
   "metadata": {},
   "outputs": [],
   "source": [
    "# Initialize Random Data Set\n",
    "\n",
    "ATOM_NUM = ADSORB.get_atomic_numbers()                       # Get Atomic numbers of your adsorbate\n",
    "unique_atom_types = get_all_atom_types(STRUCT, ATOM_NUM)     # Get the atomic numbers of your entire system\n",
    "cd = closest_distances_generator(atom_numbers=unique_atom_types, \n",
    "                                ratio_of_covalent_radii=0.7) # Generate a dictionary of closest distance\n",
    "\n",
    "population_size = 200                     # How many candidates do you want to make. For test purposes use a small number\n",
    "sg = StartGenerator([(ADSORB,n)],         # How many clusters of your adsorbate do you want to look at\n",
    "                    cd,                   # Minimum distance adorbates can be in within cluster\n",
    "                    ADSORB_VOL,           # Volume of Cell\n",
    "                    cell=ADSORB_CELL)     # Fix Cell dimensions for ease later\n",
    "\n",
    "starting_population = [sg.get_new_candidate() for i in range(population_size)] # Generate Adsorbate in Cell\n",
    "#view(starting_population)\n",
    "\n",
    "Start_Set = []                                                        # Will contain the final candidates\n",
    "for i in range(population_size):\n",
    "    TEMPMOL = STRUCT +  starting_population[i]                        # Add the adsorbates to the frame work\n",
    "    Start_Set.append(TEMPMOL)\n",
    "\n",
    "### Your Adsorbate is located randomly in your unit cell\n",
    "### Move the atoms to the prefered location\n",
    "\n",
    "Cent_Pos = [6,7.6,8.5]                                                # Place where you want your adsorbate centered\n",
    "Ads_num = len(ADSORB)*n                                               # Total number of adsorbate atoms\n",
    "Fin_atoms = np.linspace(0,Ads_num-1,Ads_num)        \n",
    "# Counting for the for loop\n",
    "\n",
    "for i in range(population_size):\n",
    "    for j in Fin_atoms:\n",
    "        Coord = Start_Set[i].get_positions()[-(int(j)+1)] + Cent_Pos  # Move the corner of the adsorbate cell to p.o.i.\n",
    "        Start_Set[i][-(int(j)+1)].x = Coord[0] - ADSORB_CELL[0][0]/2                       # Then you have to fudge the box so its centered\n",
    "        Start_Set[i][-(int(j)+1)].y = Coord[1] - ADSORB_CELL[1][1]/2                      #      around the p.o.i.\n",
    "        Start_Set[i][-(int(j)+1)].z = Coord[2] - ADSORB_CELL[2][2]/2\n",
    "\n",
    "    Start_Set[i].wrap()\n",
    "    \n",
    "view(Start_Set)\n"
   ]
  },
  {
   "cell_type": "markdown",
   "metadata": {},
   "source": [
    "# Remove Overlapping Atoms"
   ]
  },
  {
   "cell_type": "code",
   "execution_count": 7,
   "metadata": {},
   "outputs": [
    {
     "name": "stdout",
     "output_type": "stream",
     "text": [
      "Out of 200 Candidates, 160 overlaps have been possibly detected!!! Continue to remove them from the list !!!\n",
      " \n",
      "If this is too many go back and adjust the sampling volume, position of box, or generate an new test set.\n",
      " \n",
      "Look at Candidate_Error to see the index of each Candidate that should be removed\n"
     ]
    }
   ],
   "source": [
    "# Now we will eliminate candidates that have overlapping atoms\n",
    "# The more Starting Candidates there are the longer this will take\n",
    "\n",
    "Tot_Atoms = len(Start_Set[0])                                           # Get the total number of atoms\n",
    "Num_Ads = Tot_Atoms - ADSORB_TOT                                        # Get the index of the first adsorbate atom\n",
    "ADS_ind = list(range(Num_Ads,Tot_Atoms))                                # Get indicies of each adsorbate\n",
    "\n",
    "Nat_Cut = natural_cutoffs(Start_Set[0])                                 # Cutoff radii to get neighbors\n",
    "Candidate_Error = []                                                    # Storage for candidate overlaps\n",
    "for i in range(population_size):\n",
    "    Neigh = NeighborList(Nat_Cut,bothways=True)\n",
    "    Neigh.update(Start_Set[i])                                          # Generate Neighbor list\n",
    "    \n",
    "    for a in ADS_ind:\n",
    "        indices,offsets = Neigh.get_neighbors(a)                        # Get Indicies of neighbors of adsorbate atom a  \n",
    "        indices = indices[:-1]                                          # remove adsorbate a from list leaving behind neighbors\n",
    "        indices = indices[1:]                                          \n",
    "        Distances = Start_Set[i].get_distances(a,indices)               # Get the distances of atom a and its neighbors\n",
    "\n",
    "        Atom_Nat_Cut = []\n",
    "        for m in indices:\n",
    "            Mol_Syms = Start_Set[i].get_chemical_symbols()              # Get the natural cutoff for each neighbor\n",
    "            Atom_Sym = Mol_Syms[m]\n",
    "            tmp_Atom = Atoms(Atom_Sym,positions=[(0,0,0)])\n",
    "            Atom_Nat_Cut.append(natural_cutoffs(tmp_Atom,mult=1.2))\n",
    "            Atom_Nat_list = []\n",
    "            for l in Atom_Nat_Cut:\n",
    "                Atom_Nat_list += l\n",
    "                \n",
    "        Atom_Distance = Distances - Atom_Nat_list                       # Compute the overlap\n",
    "        \n",
    "        for num in Atom_Distance:                                       # Get Candidates with an overlap\n",
    "            if num <= 0:\n",
    "                #print('Candidate {0} has a possible overlap'.format(i))\n",
    "                Candidate_Error.append(i)\n",
    "                break\n",
    "            else:\n",
    "                continue\n",
    "\n",
    "Candidate_Error = np.unique(Candidate_Error)\n",
    "\n",
    "#print(Candidate_Error)\n",
    "print('Out of {0} Candidates, {1} overlaps have been possibly detected!!! Continue to remove them from the list !!!'.format(len(Start_Set),len(Candidate_Error)))\n",
    "print(' ')\n",
    "print('If this is too many go back and adjust the sampling volume, position of box, or generate an new test set.')\n",
    "print(' ')\n",
    "print('Look at Candidate_Error to see the index of each Candidate that should be removed')\n",
    "\n",
    "# Creat the Final parent set to put into a DB\n",
    "Parent_Set = []\n",
    "for i in range(0,len(Start_Set)):\n",
    "    if i in Candidate_Error:\n",
    "        continue\n",
    "    Parent_Set.append(Start_Set[i])\n",
    "    \n",
    "view(Parent_Set)"
   ]
  },
  {
   "cell_type": "markdown",
   "metadata": {},
   "source": [
    "# Create the DB to start the GA"
   ]
  },
  {
   "cell_type": "code",
   "execution_count": 8,
   "metadata": {},
   "outputs": [],
   "source": [
    "# create the database to store information in\n",
    "db_file = 'gadb_init.db'\n",
    "d = PrepareDB(db_file_name=db_file,\n",
    "              simulation_cell=STRUCT,\n",
    "              stoichiometry=ATOM_NUM)\n",
    "\n",
    "for a in Parent_Set:\n",
    "    d.add_unrelaxed_candidate(a)    # The first element in the DB is the Framework without the Adsorbate\n",
    "                                    # this is needed for the GA\n"
   ]
  },
  {
   "cell_type": "code",
   "execution_count": 22,
   "metadata": {},
   "outputs": [
    {
     "name": "stdout",
     "output_type": "stream",
     "text": [
      "id|age|user  |formula      |calculator|   energy| fmax|pbc|  volume|charge|    mass| smax|magmom\n",
      " 1|84m|cwaitt|O96Si48      |          |         |     |TTT|3189.363| 0.000|2883.984|     |      \n",
      " 2|84m|cwaitt|C10H20O96Si48|vasp      |-1304.757|0.030|TTT|3189.363| 0.000|3024.254|0.013| 0.000\n",
      " 3|84m|cwaitt|C10H20O96Si48|vasp      |-1304.781|0.021|TTT|3189.363| 0.000|3024.254|0.013| 0.000\n",
      " 4|84m|cwaitt|C10H20O96Si48|vasp      |-1304.669|0.029|TTT|3189.363| 0.000|3024.254|0.012| 0.000\n",
      " 5|84m|cwaitt|C10H20O96Si48|vasp      |-1304.736|0.030|TTT|3189.363| 0.000|3024.254|0.011| 0.000\n",
      " 6|84m|cwaitt|C10H20O96Si48|vasp      |-1304.758|0.029|TTT|3189.363| 0.000|3024.254|0.012| 0.000\n",
      " 7|84m|cwaitt|C10H20O96Si48|vasp      |-1304.788|0.025|TTT|3189.363| 0.000|3024.254|0.012| 0.000\n",
      " 8|84m|cwaitt|C10H20O96Si48|vasp      |-1304.767|0.029|TTT|3189.363| 0.000|3024.254|0.013| 0.000\n",
      " 9|84m|cwaitt|C10H20O96Si48|vasp      |-1304.637|0.027|TTT|3189.363| 0.000|3024.254|0.012| 0.000\n",
      "10|84m|cwaitt|C10H20O96Si48|vasp      |-1304.614|0.028|TTT|3189.363| 0.000|3024.254|0.011| 0.000\n",
      "11|84m|cwaitt|C10H20O96Si48|vasp      |-1304.787|0.029|TTT|3189.363| 0.000|3024.254|0.013| 0.000\n",
      "12|84m|cwaitt|C10H20O96Si48|vasp      |-1304.668|0.027|TTT|3189.363| 0.000|3024.254|0.012| 0.000\n",
      "13|84m|cwaitt|C10H20O96Si48|vasp      |-1303.306|0.029|TTT|3189.363| 0.000|3024.254|0.015| 0.000\n",
      "14|84m|cwaitt|C10H20O96Si48|vasp      |-1304.768|0.029|TTT|3189.363| 0.000|3024.254|0.012| 0.000\n",
      "15|84m|cwaitt|C10H20O96Si48|vasp      |-1304.710|0.026|TTT|3189.363| 0.000|3024.254|0.011| 0.000\n",
      "16|84m|cwaitt|C10H20O96Si48|vasp      |-1304.671|0.028|TTT|3189.363| 0.000|3024.254|0.011| 0.000\n",
      "17|84m|cwaitt|C10H20O96Si48|vasp      |-1304.831|0.030|TTT|3189.363| 0.000|3024.254|0.011| 0.000\n",
      "18|84m|cwaitt|C10H20O96Si48|vasp      |-1304.696|0.026|TTT|3189.363| 0.000|3024.254|0.011| 0.000\n",
      "19|84m|cwaitt|C10H20O96Si48|vasp      |-1304.774|0.029|TTT|3189.363| 0.000|3024.254|0.011| 0.000\n",
      "20|84m|cwaitt|C10H20O96Si48|vasp      |-1304.703|0.028|TTT|3189.363| 0.000|3024.254|0.011| 0.000\n",
      "Rows: 57 (showing first 20)\n",
      "Keys: extinct, gaid, generation, origin, relaxed, simulation_cell\n"
     ]
    }
   ],
   "source": [
    "%%bash\n",
    "ase db gadb_init.db "
   ]
  },
  {
   "cell_type": "markdown",
   "metadata": {},
   "source": [
    "# Prepare DB for GA"
   ]
  },
  {
   "cell_type": "code",
   "execution_count": 4,
   "metadata": {},
   "outputs": [
    {
     "name": "stdout",
     "output_type": "stream",
     "text": [
      "range(1, 29)\n"
     ]
    }
   ],
   "source": [
    "# Set the Population Generator variables\n",
    "\n",
    "population_size = 28  # Number of canidates in the DB (number of rows minus 1)\n",
    "n_to_test = 10                                         # Number of Children to genertate\n",
    "\n",
    "# Define the calculator that will be used for all subsequent calculations'\n",
    "# Geometry optimizations preformed as specified below\n",
    "\n",
    "def Calc(db_ind,candidate):                               \n",
    "    return Vasp('Candidates/Candidate-{:02d}/'.format(int(db_ind)),\n",
    "                xc = 'pbe', \n",
    "                encut = 400,                                \n",
    "                ediff = 1e-5,\n",
    "                ediffg = -0.03, \n",
    "                ibrion = 2,\n",
    "                isif = 2, \n",
    "                nsw = 600,\n",
    "                ispin = 2,\n",
    "#                magmom = np.repeat(1,len(candidate)).tolist(),\n",
    "                nelm = 60,\n",
    "                sigma = 0.01,\n",
    "                ismear = 0,\n",
    "                lreal='A',\n",
    "                ncore = 24,                                   # set ncore depending on number of cores\n",
    "                atoms = candidate)\n",
    "\n",
    "db = connect('gadb_init.db')                     # connects to the DB\n",
    "db_index = range(1,population_size+1)            # get the indicies (in python notation (i.e. id=1 has an index=0)\n",
    "\n",
    "\n",
    "print(db_index)"
   ]
  },
  {
   "cell_type": "code",
   "execution_count": null,
   "metadata": {},
   "outputs": [],
   "source": [
    "# Write input using a cheap optimization method\n",
    " for i in db_index:                           # write an input file for each job\n",
    "        parent = read('gadb_init.db@{0}'.format(i))\n",
    "        calc = Calc(i+1,parent)\n",
    "        calc.write_input()\n",
    "    \n",
    "# Submit Jobs, wait for them to complete before proceeding"
   ]
  },
  {
   "cell_type": "markdown",
   "metadata": {},
   "source": [
    "# Check Energy Profile (optional)"
   ]
  },
  {
   "cell_type": "code",
   "execution_count": 6,
   "metadata": {},
   "outputs": [
    {
     "data": {
      "image/png": "[encoded data removed]",
      "text/plain": [
       "<Figure size 432x288 with 1 Axes>"
      ]
     },
     "metadata": {
      "needs_background": "light"
     },
     "output_type": "display_data"
    }
   ],
   "source": [
    "# Now go through the new DB and find the lowest energy configuration\n",
    "Energy_G0 = []\n",
    "for i in db_index:\n",
    "    a = Vasp('Candidates/Candidate-{:02d}/'.format(i+1))\n",
    "    Energy_G0.append(a.get_potential_energy())\n",
    "# This will also check if any calculations need to be resubmited    \n",
    "plt.plot(Energy_G0)\n",
    "plt.show()"
   ]
  },
  {
   "cell_type": "code",
   "execution_count": 5,
   "metadata": {},
   "outputs": [
    {
     "name": "stdout",
     "output_type": "stream",
     "text": [
      "0.000 -> 17\n",
      "0.007 -> 29\n",
      "0.035 -> 24\n",
      "0.043 -> 07\n",
      "0.044 -> 11\n",
      "0.049 -> 03\n",
      "0.056 -> 19\n",
      "0.063 -> 14\n",
      "0.064 -> 08\n",
      "0.072 -> 26\n",
      "0.072 -> 06\n",
      "0.074 -> 02\n",
      "0.083 -> 22\n",
      "0.094 -> 05\n",
      "0.099 -> 21\n",
      "0.100 -> 28\n",
      "0.101 -> 27\n",
      "0.104 -> 23\n",
      "0.121 -> 15\n",
      "0.127 -> 20\n",
      "0.134 -> 18\n",
      "0.160 -> 16\n",
      "0.161 -> 04\n",
      "0.163 -> 12\n",
      "0.194 -> 09\n",
      "0.217 -> 10\n",
      "1.525 -> 13\n",
      "8.317 -> 25\n"
     ]
    }
   ],
   "source": [
    "Min_Ind = np.argsort(Energy_G0)\n",
    "Min_E = []\n",
    "Min_Can = []\n",
    "for i in Min_Ind:\n",
    "    Min_E.append('{0:.3f}'.format(Energy_G0[i]-min(Energy_G0)))\n",
    "    Min_Can.append('{:02d}'.format(i+2))\n",
    "\n",
    "    \n",
    "for i in range(0,len(Min_E)):\n",
    "    print('{0} -> {1}'.format(Min_E[i],Min_Can[i]))\n"
   ]
  },
  {
   "cell_type": "markdown",
   "metadata": {},
   "source": [
    "# Update Parents"
   ]
  },
  {
   "cell_type": "code",
   "execution_count": 6,
   "metadata": {},
   "outputs": [
    {
     "name": "stdout",
     "output_type": "stream",
     "text": [
      "Candidate-02/\n",
      "Candidate-03/\n",
      "Candidate-04/\n",
      "Candidate-05/\n",
      "Candidate-06/\n",
      "Candidate-07/\n",
      "Candidate-08/\n",
      "Candidate-09/\n",
      "Candidate-10/\n",
      "Candidate-11/\n",
      "Candidate-12/\n",
      "Candidate-13/\n",
      "Candidate-14/\n",
      "Candidate-15/\n",
      "Candidate-16/\n",
      "Candidate-17/\n",
      "Candidate-18/\n",
      "Candidate-19/\n",
      "Candidate-20/\n",
      "Candidate-21/\n",
      "Candidate-22/\n",
      "Candidate-23/\n",
      "Candidate-24/\n",
      "Candidate-25/\n",
      "Candidate-26/\n",
      "Candidate-27/\n",
      "Candidate-28/\n",
      "Candidate-29/\n"
     ]
    }
   ],
   "source": [
    "for i in db_index:\n",
    "    calc = Vasp('Candidates/Candidate-{:02d}'.format(int(i+1)))\n",
    "    print('Candidate-{:02d}/'.format(int(i+1)))\n",
    "    a = calc.get_atoms()\n",
    "    a.set_tags(np.concatenate((np.zeros(STRUCTcount),np.ones(ADSORBcount)))) # set atom tags\n",
    "    db.update(i+1,a)        # grab the minimized energies and update the database"
   ]
  },
  {
   "cell_type": "code",
   "execution_count": 12,
   "metadata": {},
   "outputs": [
    {
     "name": "stdout",
     "output_type": "stream",
     "text": [
      "Updating Candidate 2\n",
      "Updating Candidate 3\n",
      "Updating Candidate 4\n",
      "Updating Candidate 5\n",
      "Updating Candidate 6\n",
      "Updating Candidate 7\n",
      "Updating Candidate 8\n",
      "Updating Candidate 9\n",
      "Updating Candidate 10\n",
      "Updating Candidate 11\n",
      "Updating Candidate 12\n",
      "Updating Candidate 13\n",
      "Updating Candidate 14\n",
      "Updating Candidate 15\n",
      "Updating Candidate 16\n",
      "Updating Candidate 17\n",
      "Updating Candidate 18\n",
      "Updating Candidate 19\n",
      "Updating Candidate 20\n",
      "Updating Candidate 21\n",
      "Updating Candidate 22\n",
      "Updating Candidate 23\n",
      "Updating Candidate 24\n",
      "Updating Candidate 25\n",
      "Updating Candidate 26\n",
      "Updating Candidate 27\n",
      "Updating Candidate 28\n",
      "Updating Candidate 29\n"
     ]
    }
   ],
   "source": [
    "da = DataConnection('gadb_init.db')    # The first row of the database contains the surface/framework w/out the adsorbate.\n",
    "for i in db_index:\n",
    "    a = da.get_an_unrelaxed_candidate()\n",
    "    print('Updating Candidate {0}'.format(a.info['confid']))\n",
    "    da.c.update(a.info['confid'],atoms=None,            # update the DB with pertinent information\n",
    "                origin='StartingCandidateRelaxed',\n",
    "                raw_score= -a.get_potential_energy(),\n",
    "                relaxed=True)\n"
   ]
  },
  {
   "cell_type": "markdown",
   "metadata": {},
   "source": [
    "# Initialize different compenents of GA"
   ]
  },
  {
   "cell_type": "code",
   "execution_count": 13,
   "metadata": {},
   "outputs": [],
   "source": [
    "atom_numbers_to_optimize = da.get_atom_numbers_to_optimize()  # adsorbate atom numbers to optimize\n",
    "n_to_optimize = len(atom_numbers_to_optimize)*n               # number of atoms to optimize\n",
    "slab = da.get_slab()\n",
    "all_atom_types = get_all_atom_types(slab, atom_numbers_to_optimize)\n",
    "blmin = closest_distances_generator(all_atom_types,\n",
    "                                    ratio_of_covalent_radii=.7)   # closest distance atoms can be\n",
    "\n",
    "comp = InteratomicDistanceComparator(n_top=None,\n",
    "                                     pair_cor_cum_diff=0.015,\n",
    "                                     pair_cor_max=0.7,\n",
    "                                     dE=0.001,\n",
    "                                     mic=True)                   # comparator to determine if parents should make childer\n",
    "\n",
    "pairing = CutAndSplicePairing(blmin,None,use_tags=True,p1=.2)     # how children are generated (make sure your adsorbates are uniquely tagged)\n"
   ]
  },
  {
   "cell_type": "markdown",
   "metadata": {},
   "source": [
    "# Create the population"
   ]
  },
  {
   "cell_type": "code",
   "execution_count": 14,
   "metadata": {},
   "outputs": [],
   "source": [
    "population = Population(data_connection=da,              \n",
    "                        population_size=population_size,\n",
    "                        comparator=comp)\n"
   ]
  },
  {
   "cell_type": "code",
   "execution_count": 15,
   "metadata": {},
   "outputs": [
    {
     "name": "stdout",
     "output_type": "stream",
     "text": [
      "Now starting configuration number 0\n",
      "{'key_value_pairs': {'extinct': 0, 'origin': 'CutAndSplicePairing'}, 'data': {'parents': [3, 16]}}\n",
      "Now starting configuration number 1\n",
      "{'key_value_pairs': {'extinct': 0, 'origin': 'CutAndSplicePairing'}, 'data': {'parents': [2, 29]}}\n",
      "Now starting configuration number 2\n",
      "{'key_value_pairs': {'extinct': 0, 'origin': 'CutAndSplicePairing'}, 'data': {'parents': [14, 29]}}\n",
      "Now starting configuration number 3\n",
      "{'key_value_pairs': {'extinct': 0, 'origin': 'CutAndSplicePairing'}, 'data': {'parents': [19, 8]}}\n",
      "Now starting configuration number 4\n",
      "{'key_value_pairs': {'extinct': 0, 'origin': 'CutAndSplicePairing'}, 'data': {'parents': [24, 17]}}\n",
      "Now starting configuration number 5\n",
      "{'key_value_pairs': {'extinct': 0, 'origin': 'CutAndSplicePairing'}, 'data': {'parents': [13, 18]}}\n",
      "Now starting configuration number 6\n",
      "{'key_value_pairs': {'extinct': 0, 'origin': 'CutAndSplicePairing'}, 'data': {'parents': [3, 5]}}\n",
      "Now starting configuration number 7\n",
      "{'key_value_pairs': {'extinct': 0, 'origin': 'CutAndSplicePairing'}, 'data': {'parents': [20, 16]}}\n",
      "Now starting configuration number 8\n",
      "{'key_value_pairs': {'extinct': 0, 'origin': 'CutAndSplicePairing'}, 'data': {'parents': [26, 4]}}\n",
      "Now starting configuration number 9\n",
      "{'key_value_pairs': {'extinct': 0, 'origin': 'CutAndSplicePairing'}, 'data': {'parents': [5, 14]}}\n"
     ]
    }
   ],
   "source": [
    "for i in range(n_to_test):\n",
    "    print('Now starting configuration number {0}'.format(i))\n",
    "    a1, a2 = population.get_two_candidates()\n",
    "\n",
    "    a3, desc = pairing.get_new_individual([a1, a2])\n",
    "    print(a3.info)\n",
    "    #view(a3)\n",
    "    if a3 is None:\n",
    "        continue\n",
    "    da.add_unrelaxed_candidate(a3, description=desc)\n",
    "\n"
   ]
  },
  {
   "cell_type": "markdown",
   "metadata": {},
   "source": [
    "# Optimize the Children"
   ]
  },
  {
   "cell_type": "code",
   "execution_count": 16,
   "metadata": {},
   "outputs": [],
   "source": [
    "# Get the children and optimize those\n",
    "child_index = range((population_size+1),(population_size+1+n_to_test))\n",
    "for i in child_index:                           # write and input file for each job\n",
    "    child = read('gadb_init.db@{0}'.format(i))\n",
    "    calc = Calc(i+1,child)\n",
    "    calc.write_input()"
   ]
  },
  {
   "cell_type": "markdown",
   "metadata": {},
   "source": [
    "# Get Children and Parents into a new DB (and see if addtitional generations are needed)"
   ]
  },
  {
   "cell_type": "code",
   "execution_count": 11,
   "metadata": {},
   "outputs": [
    {
     "data": {
      "image/png": "[encoded data removed]",
      "text/plain": [
       "<Figure size 432x288 with 1 Axes>"
      ]
     },
     "metadata": {
      "needs_background": "light"
     },
     "output_type": "display_data"
    }
   ],
   "source": [
    "#gen1_index = range((population_size+1),(population_size+1+n_to_test))\n",
    "gen1_index = range(41,(41+n_to_test))\n",
    "Energy_G1 = []\n",
    "\n",
    "for i in gen1_index:\n",
    "    calc = Vasp('Candidates/Candidate-{:02d}/'.format(i-11))\n",
    "    a = calc.get_atoms()\n",
    "    a.set_tags(np.concatenate((np.zeros(STRUCTcount),np.ones(ADSORBcount)))) # set atom tags\n",
    "    db.update(i+1,a)   \n",
    "    Energy_G1.append(a.get_potential_energy())\n",
    "    "
   ]
  },
  {
   "cell_type": "code",
   "execution_count": 23,
   "metadata": {},
   "outputs": [
    {
     "data": {
      "image/png": "[encoded data removed]",
      "text/plain": [
       "<Figure size 432x288 with 1 Axes>"
      ]
     },
     "metadata": {
      "needs_background": "light"
     },
     "output_type": "display_data"
    }
   ],
   "source": [
    "## This will also check if any calculations need to be resubmited    \n",
    "plt.plot(range(2,(population_size+2)),Energy,'b')\n",
    "plt.plot(range(41-11,(41-11+n_to_test)),Energy_G1,'g')\n",
    "plt.show()\n"
   ]
  },
  {
   "cell_type": "code",
   "execution_count": 65,
   "metadata": {},
   "outputs": [],
   "source": [
    "db_file_2 = 'ga_gen1.db'\n",
    "db = connect(db_file_2)\n",
    "\n",
    "d = PrepareDB(db_file_name=db_file_2,\n",
    "              simulation_cell=STRUCT,\n",
    "              stoichiometry=ATOM_NUM)\n",
    "\n",
    "Can_fold = glob.glob('Candidates/Candidate-*')\n",
    "\n",
    "F_Can = sorted(Can_fold)\n",
    "j=1\n",
    "\n",
    "for m in F_Can:\n",
    "#     print(m)\n",
    "    calc = Vasp(m)\n",
    "    a = calc.get_atoms()\n",
    "    a.set_tags(np.concatenate((np.zeros(STRUCTcount),np.ones(ADSORBcount)))) # set atom tags\n",
    "\n",
    "    a.info['confid'] = j\n",
    "    j+1    \n",
    "    d.add_unrelaxed_candidate(a)\n",
    "    d.c.update(a.info['confid'],atoms=None,            # update the DB with pertinent information\n",
    "                origin='StartingCandidateRelaxed',\n",
    "                raw_score= -a.get_potential_energy(),\n",
    "                relaxed=True)\n"
   ]
  },
  {
   "cell_type": "code",
   "execution_count": 66,
   "metadata": {},
   "outputs": [
    {
     "name": "stdout",
     "output_type": "stream",
     "text": [
      "Candidate 17 has the lowest energy and is a likely candidate for the global minimum\n",
      "This structure was determined to be a parent candidate\n",
      "0.000 -> 17\n",
      "0.002 -> 34\n",
      "0.007 -> 29\n",
      "0.034 -> 33\n",
      "0.035 -> 24\n",
      "0.043 -> 07\n",
      "0.044 -> 11\n",
      "0.046 -> 36\n",
      "0.049 -> 03\n",
      "0.056 -> 19\n"
     ]
    },
    {
     "data": {
      "image/png": "[encoded data removed]",
      "text/plain": [
       "<Figure size 432x288 with 1 Axes>"
      ]
     },
     "metadata": {
      "needs_background": "light"
     },
     "output_type": "display_data"
    }
   ],
   "source": [
    "# Now go through the new DB and find the lowest energy configuration\n",
    "Energy = []\n",
    "da = DataConnection(db_file_2)\n",
    "db = connect(db_file_2)\n",
    "\n",
    "for i in range(1,db.count()-1):\n",
    "    a = read('{0}@{1}'.format(db_file_2,i))\n",
    "    Energy.append(a.get_potential_energy())\n",
    "## find the loweest energy structure\n",
    "MinE_I = np.argmin(Energy)\n",
    "print('Candidate {0} has the lowest energy and is a likely candidate for the global minimum'.format(MinE_I+2))\n",
    "if MinE_I < population_size:\n",
    "    print('This structure was determined to be a parent candidate')\n",
    "else:\n",
    "    print('This structure was determined to be a child')\n",
    "\n",
    "\n",
    "# show the 20 lowest energy structure\n",
    "Min_Ind = np.argsort(Energy)[0:10]\n",
    "Min_E = []\n",
    "Min_Can = []\n",
    "for i in Min_Ind:\n",
    "    Min_E.append('{0:.3f}'.format(Energy[i]-min(Energy)))\n",
    "    Min_Can.append('{:02d}'.format(i+2))\n",
    "\n",
    "    \n",
    "for i in range(0,len(Min_E)):\n",
    "    print('{0} -> {1}'.format(Min_E[i],Min_Can[i]))\n",
    "\n",
    "plt.plot(Energy-np.min(Energy))\n",
    "plt.ylim((0, 1))\n",
    "plt.xlabel('Candidate')\n",
    "plt.ylabel('Relative Energy (eV)')\n",
    "plt.show()"
   ]
  },
  {
   "cell_type": "markdown",
   "metadata": {},
   "source": [
    "# Generate 2nd Generation of Children"
   ]
  },
  {
   "cell_type": "code",
   "execution_count": 67,
   "metadata": {},
   "outputs": [],
   "source": [
    "atom_numbers_to_optimize = da.get_atom_numbers_to_optimize()  # adsorbate atom numbers to optimize\n",
    "n_to_optimize = len(atom_numbers_to_optimize)*n               # number of atoms to optimize\n",
    "slab = da.get_slab()\n",
    "all_atom_types = get_all_atom_types(slab, atom_numbers_to_optimize)\n",
    "blmin = closest_distances_generator(all_atom_types,\n",
    "                                    ratio_of_covalent_radii=.7)   # closest distance atoms can be\n",
    "\n",
    "comp = InteratomicDistanceComparator(n_top=None,\n",
    "                                     pair_cor_cum_diff=0.015,\n",
    "                                     pair_cor_max=0.7,\n",
    "                                     dE=0.001,\n",
    "                                     mic=True)                   # comparator to determine if parents should make childer\n",
    "\n",
    "pairing = CutAndSplicePairing(blmin,None,use_tags=True,p1=.2)     # how children are generated (make sure your adsorbates are uniquely tagged)\n"
   ]
  },
  {
   "cell_type": "code",
   "execution_count": 68,
   "metadata": {},
   "outputs": [],
   "source": [
    "population_size = db.count()-1\n",
    "population = Population(data_connection=da,              \n",
    "                        population_size=population_size,\n",
    "                        comparator=comp)"
   ]
  },
  {
   "cell_type": "code",
   "execution_count": 71,
   "metadata": {},
   "outputs": [
    {
     "name": "stdout",
     "output_type": "stream",
     "text": [
      "Now starting configuration number 0\n",
      "Atoms(symbols='C10H20O96Si48', pbc=True, cell=[13.677, 12.607, 18.497], tags=...)\n"
     ]
    }
   ],
   "source": [
    "for i in range(1):\n",
    "    print('Now starting configuration number {0}'.format(i))\n",
    "    a1, a2 = population.get_two_candidates()\n",
    "\n",
    "    a3, desc = pairing.get_new_individual([a1, a2])\n",
    "    print(a3)\n",
    "    if a3 is None:\n",
    "        continue\n",
    "    da.add_unrelaxed_candidate(a3, description=desc)"
   ]
  },
  {
   "cell_type": "code",
   "execution_count": 72,
   "metadata": {},
   "outputs": [],
   "source": [
    "# Get the children and optimize those\n",
    "child_index = range((population_size+1),(population_size+1+n_to_test))\n",
    "for i in child_index:                           # write and input file for each job\n",
    "    child = read('ga_gen1.db@{0}'.format(i))\n",
    "    calc = Calc(i+1,child)\n",
    "    calc.write_input()"
   ]
  },
  {
   "cell_type": "code",
   "execution_count": 74,
   "metadata": {},
   "outputs": [
    {
     "name": "stdout",
     "output_type": "stream",
     "text": [
      "{'key_value_pairs': {'extinct': 0, 'origin': 'CutAndSplicePairing'}, 'data': {'parents': [19, 26]}, 'confid': 49}\n"
     ]
    }
   ],
   "source": []
  },
  {
   "cell_type": "code",
   "execution_count": null,
   "metadata": {},
   "outputs": [],
   "source": []
  },
  {
   "cell_type": "code",
   "execution_count": null,
   "metadata": {},
   "outputs": [],
   "source": []
  }
 ],
 "metadata": {
  "kernelspec": {
   "display_name": "Python 3",
   "language": "python",
   "name": "python3"
  },
  "language_info": {
   "codemirror_mode": {
    "name": "ipython",
    "version": 3
   },
   "file_extension": ".py",
   "mimetype": "text/x-python",
   "name": "python",
   "nbconvert_exporter": "python",
   "pygments_lexer": "ipython3",
   "version": "3.7.0"
  }
 },
 "nbformat": 4,
 "nbformat_minor": 2
}
